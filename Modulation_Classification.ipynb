{
  "nbformat": 4,
  "nbformat_minor": 0,
  "metadata": {
    "colab": {
      "name": "Modulation_Classification.ipynb",
      "provenance": [],
      "collapsed_sections": [],
      "include_colab_link": true
    },
    "kernelspec": {
      "name": "python3",
      "display_name": "Python 3"
    },
    "accelerator": "GPU"
  },
  "cells": [
    {
      "cell_type": "markdown",
      "metadata": {
        "id": "view-in-github",
        "colab_type": "text"
      },
      "source": [
        "<a href=\"https://colab.research.google.com/github/kolbrak/Modulation_Classification/blob/master/Modulation_Classification.ipynb\" target=\"_parent\"><img src=\"https://colab.research.google.com/assets/colab-badge.svg\" alt=\"Open In Colab\"/></a>"
      ]
    },
    {
      "cell_type": "code",
      "metadata": {
        "id": "sq1DUBUZEgXU",
        "colab_type": "code",
        "colab": {}
      },
      "source": [
        "# Import all the things we need ---\n",
        "#   by setting env variables before Keras import you can set up which backend and which GPU it uses\n",
        "\n",
        "#Tried the new RAdam optimizer.  Didn't seem to work as well as the \"normal\" adam optimizer.\n",
        "#!pip install keras-rectified-adam \n",
        "#from keras_radam import RAdam\n",
        "\n",
        "%matplotlib inline\n",
        "import os,random\n",
        "import pandas as pd\n",
        "import tensorflow as tf\n",
        "import numpy as np\n",
        "from keras.utils import np_utils\n",
        "import keras.models as models\n",
        "from keras.layers.core import Reshape,Dense,Dropout,Activation,Flatten\n",
        "from keras.layers.noise import GaussianNoise\n",
        "from keras.layers.convolutional import Convolution2D, MaxPooling2D, ZeroPadding2D\n",
        "from keras.regularizers import *\n",
        "from keras.optimizers import adam\n",
        "import matplotlib.pyplot as plt\n",
        "import seaborn as sns\n",
        "import pickle, random, sys, keras"
      ],
      "execution_count": 0,
      "outputs": []
    },
    {
      "cell_type": "code",
      "metadata": {
        "id": "u9IYOV5KHdHp",
        "colab_type": "code",
        "colab": {}
      },
      "source": [
        "tf.test.gpu_device_name() "
      ],
      "execution_count": 0,
      "outputs": []
    },
    {
      "cell_type": "code",
      "metadata": {
        "id": "RyRRA8rEsboc",
        "colab_type": "code",
        "colab": {}
      },
      "source": [
        "from google.colab import drive\n",
        "drive.mount('/content/gdrive/', force_remount=True)"
      ],
      "execution_count": 0,
      "outputs": []
    },
    {
      "cell_type": "code",
      "metadata": {
        "id": "3FPw5lblxOkO",
        "colab_type": "code",
        "colab": {}
      },
      "source": [
        "#This line checks that the drive was mounted\n",
        "!ls \"/content/gdrive/My Drive/Colab Notebooks/\""
      ],
      "execution_count": 0,
      "outputs": []
    },
    {
      "cell_type": "code",
      "metadata": {
        "id": "BrJzysKJFa_d",
        "colab_type": "code",
        "outputId": "43dbce2a-e359-48fc-e2a4-a6a5c56c9416",
        "colab": {
          "base_uri": "https://localhost:8080/",
          "height": 35
        }
      },
      "source": [
        "# Load the dataset ...\n",
        "#  You will need to seperately download or generate this file\n",
        "# The output format looks like this\n",
        "# {('mod type', SNR): np.array(nvecs_per_key, 2, vec_length), etc}\n",
        "#Xd = pickle.load(open(\"gdrive/My Drive/Colab Notebooks/RML2016.10a_dict.pkl\",'rb'), encoding='Latin1')\n",
        "Xraw = pickle.load(open(\"gdrive/My Drive/Colab Notebooks/RML2016.10a_dict.pkl\",'rb'), encoding='Latin1')\n",
        "\n",
        "#This for loop takes out the low SNR signals and keeps only items with SNR greater than the SNR value\n",
        "Xd = {}\n",
        "SNR = 6\n",
        "for key in Xraw.keys():\n",
        "  if key[1] > SNR:\n",
        "    Xd[key] = Xraw[key]\n",
        "\n",
        "print(Xd[('QPSK', 10)].shape)"
      ],
      "execution_count": 0,
      "outputs": [
        {
          "output_type": "stream",
          "text": [
            "(1000, 2, 128)\n"
          ],
          "name": "stdout"
        }
      ]
    },
    {
      "cell_type": "code",
      "metadata": {
        "id": "MsM4S3MDwrnV",
        "colab_type": "code",
        "outputId": "cea2d3f9-e9cd-43b9-df7b-1e5029042507",
        "colab": {
          "base_uri": "https://localhost:8080/",
          "height": 53
        }
      },
      "source": [
        "#Separate out SNR and Modulation from the Xd.keys() and put into two lists\n",
        "snr = []\n",
        "mod = []\n",
        "for key in Xd.keys():\n",
        "  snr.append(key[1])\n",
        "  mod.append(key[0])\n",
        "LABELS = list(dict.fromkeys(mod))\n",
        "SNR = list(dict.fromkeys(snr))\n",
        "print(LABELS)\n",
        "print(SNR)"
      ],
      "execution_count": 0,
      "outputs": [
        {
          "output_type": "stream",
          "text": [
            "['PAM4', 'QAM64', 'AM-SSB', '8PSK', 'AM-DSB', 'CPFSK', 'QAM16', 'QPSK', 'GFSK', 'BPSK', 'WBFM']\n",
            "[8, 12, 16, 10, 14, 18]\n"
          ],
          "name": "stdout"
        }
      ]
    },
    {
      "cell_type": "code",
      "metadata": {
        "id": "E63snOOq8ht3",
        "colab_type": "code",
        "colab": {}
      },
      "source": [
        "test = np.asarray(Xd[('QPSK', 10)][0,:])\n",
        "test_reshaped = np.expand_dims(test.T,0)\n",
        "\n",
        "MULTI_LABELS = []\n",
        "lbl_multidict = {}\n",
        "snr = []\n",
        "i = 0\n",
        "\n",
        "#decimal encode all dictionary itesms\n",
        "for key in Xd.keys():\n",
        "  lbl_multidict[key] = key[0]\n",
        "  #snr.append(key[1])\n",
        "  i += 1\n",
        "print('lbl_multidict:',lbl_multidict)\n",
        "#print(np.asarray(snr).shape)\n",
        "  \n",
        "data_list = list()\n",
        "for key in Xd.keys():\n",
        "  for i in range(1000):\n",
        "    data_list.append(np.expand_dims(Xd[key][i,:].T,0)) #list.append(np.expand_dims(Xd[key][i,:].T,0)\n",
        "    MULTI_LABELS.append(lbl_multidict[key])\n",
        "    snr.append(key[1])\n",
        "print('MULTI_LABELS=', MULTI_LABELS)\n",
        "data_array = np.asarray(np.vstack(data_list))\n",
        "MULTI_LABELS = np.asarray(MULTI_LABELS).reshape(1, -1).T  #MULTI_LABELS = np.asarray(MULTI_LABELS).reshape(1, -1).T\n",
        "print('shape of data to load into the CNN:', data_array.shape)\n",
        "print('shape of the ydata:', MULTI_LABELS.shape)\n",
        "print('shape of snr:', np.asarray(snr).reshape(1,-1).T.shape)\n",
        "#from keras.utils import to_categorical\n",
        "#ydata_binary = to_categorical(MULTI_LABELS)\n",
        "\n",
        "from sklearn.preprocessing import OneHotEncoder\n",
        "encode = OneHotEncoder()\n",
        "#lbl_encode = OneHotEncoder()\n",
        "ydata_binary = encode.fit_transform(MULTI_LABELS).toarray()\n",
        "#Y_LABELS = lbl_encode.fit_transform(np.asarray(LABELS).reshape(1,-1))\n",
        "print(ydata_binary[1])\n",
        "print(ydata_binary.shape)\n",
        "#print('LABELS:', LABELS)\n",
        "#print('Y_LABELS', Y_LABELS)"
      ],
      "execution_count": 0,
      "outputs": []
    },
    {
      "cell_type": "markdown",
      "metadata": {
        "id": "c9ePiMZx7jDD",
        "colab_type": "text"
      },
      "source": [
        "Data is processed.  Column data are a two variable label composed of the Modulation and SNR, Row 0 is the binary encoded version of the Modulation and SNR,\n",
        "Row 1 is the actual data, each column is a 2, 128 array of I and Q data for the specified Modulation and SNR in the column label"
      ]
    },
    {
      "cell_type": "code",
      "metadata": {
        "id": "xIeCZyZ27_4S",
        "colab_type": "code",
        "outputId": "448f22cf-549b-4bd4-a592-6da953be74c8",
        "colab": {
          "base_uri": "https://localhost:8080/",
          "height": 125
        }
      },
      "source": [
        "#This splits the ENCODED_X dataframe into Train and Test sets\n",
        "from sklearn.model_selection import train_test_split, ShuffleSplit\n",
        "xTrain, xTest, yTrain, yTest = train_test_split(data_array, ydata_binary, test_size = 0.3, random_state = 0)\n",
        "snr_train, snr_test = train_test_split(np.asarray(snr), test_size = 0.3, random_state = 0)  #This should work because I initialize the random state so it will always come up with the same indexes\n",
        "print('xTrain.shape:', xTrain.shape)\n",
        "print('xTest.shape:', xTest.shape)\n",
        "print('yTrain.shape:', yTrain.shape)\n",
        "print('yTest.shape:', yTest.shape)\n",
        "print('snr_train.shape:', snr_train.shape)\n",
        "print('snr_test.shape:', snr_test.shape)"
      ],
      "execution_count": 0,
      "outputs": [
        {
          "output_type": "stream",
          "text": [
            "xTrain.shape: (46200, 128, 2)\n",
            "xTest.shape: (19800, 128, 2)\n",
            "yTrain.shape: (46200, 11)\n",
            "yTest.shape: (19800, 11)\n",
            "snr_train.shape: (46200,)\n",
            "snr_test.shape: (19800,)\n"
          ],
          "name": "stdout"
        }
      ]
    },
    {
      "cell_type": "markdown",
      "metadata": {
        "id": "or2_fLuM9hAD",
        "colab_type": "text"
      },
      "source": [
        "Now we build the CNN"
      ]
    },
    {
      "cell_type": "code",
      "metadata": {
        "id": "-qHseXnJ9jfy",
        "colab_type": "code",
        "outputId": "e7a63b28-c00b-45ac-991d-7fc901760226",
        "colab": {
          "base_uri": "https://localhost:8080/",
          "height": 431
        }
      },
      "source": [
        "from keras.models import Sequential\n",
        "from keras.layers import Dense, Activation, Dropout, Conv1D, MaxPooling1D, GlobalAveragePooling1D, Flatten\n",
        "\n",
        "verbose, epochs, batch_size = 1, 256, 1024\n",
        "n_timesteps, n_features, n_outputs = xTrain.shape[1], xTrain.shape[2], yTrain.shape[1]\n",
        "print('timesteps=', n_timesteps, 'features=', n_features, 'outputs=', n_outputs)\n",
        "model = Sequential()\n",
        "model.add(Conv1D(filters=64, kernel_size=3, activation='relu', input_shape=(n_timesteps, n_features)))\n",
        "model.add(Conv1D(filters=64, kernel_size=3, activation='relu'))\n",
        "model.add(Dropout(0.5))\n",
        "model.add(MaxPooling1D(pool_size=2))\n",
        "model.add(Flatten())\n",
        "model.add(Dense(100, activation='relu'))\n",
        "model.add(Dense(n_outputs, activation='softmax'))\n",
        "model.compile(loss='categorical_crossentropy', optimizer='adam', metrics=['accuracy'])\n",
        "#model.compile(RAdam(), loss='categorical_crossentropy', metrics=['accuracy'])\n",
        "print(model.summary())"
      ],
      "execution_count": 0,
      "outputs": [
        {
          "output_type": "stream",
          "text": [
            "timesteps= 128 features= 2 outputs= 11\n",
            "_________________________________________________________________\n",
            "Layer (type)                 Output Shape              Param #   \n",
            "=================================================================\n",
            "conv1d_13 (Conv1D)           (None, 126, 64)           448       \n",
            "_________________________________________________________________\n",
            "conv1d_14 (Conv1D)           (None, 124, 64)           12352     \n",
            "_________________________________________________________________\n",
            "dropout_7 (Dropout)          (None, 124, 64)           0         \n",
            "_________________________________________________________________\n",
            "max_pooling1d_7 (MaxPooling1 (None, 62, 64)            0         \n",
            "_________________________________________________________________\n",
            "flatten_7 (Flatten)          (None, 3968)              0         \n",
            "_________________________________________________________________\n",
            "dense_13 (Dense)             (None, 100)               396900    \n",
            "_________________________________________________________________\n",
            "dense_14 (Dense)             (None, 11)                1111      \n",
            "=================================================================\n",
            "Total params: 410,811\n",
            "Trainable params: 410,811\n",
            "Non-trainable params: 0\n",
            "_________________________________________________________________\n",
            "None\n"
          ],
          "name": "stdout"
        }
      ]
    },
    {
      "cell_type": "code",
      "metadata": {
        "id": "px21qK2-Fvwr",
        "colab_type": "code",
        "colab": {}
      },
      "source": [
        "#Train the model\n",
        "print(xTrain.shape, yTrain.shape)\n",
        "model.fit(xTrain, yTrain, batch_size=batch_size, epochs=epochs, verbose=verbose)\n"
      ],
      "execution_count": 0,
      "outputs": []
    },
    {
      "cell_type": "code",
      "metadata": {
        "id": "9kMASu5OGrj7",
        "colab_type": "code",
        "colab": {}
      },
      "source": [
        "def save_model(model_name):\n",
        "  # serialize model to JSON\n",
        "  model_json = model.to_json()\n",
        "  with open(\"gdrive/My Drive/Colab Notebooks/model.json\", \"w\") as json_file:\n",
        "    json_file.write(model_json)\n",
        "  print(\"JSON file saved\")\n",
        "  # serialize weights to HDF5\n",
        "  model.save_weights(\"gdrive/My Drive/Colab Notebooks/model.h5\")\n",
        "  print(\"Saved model to disk\")\n",
        "                   \n",
        "  from keras.utils import plot_model\n",
        "  plot_model(model, to_file='/content/gdrive/My Drive/Colab Notebooks/model.png')\n",
        " "
      ],
      "execution_count": 0,
      "outputs": []
    },
    {
      "cell_type": "code",
      "metadata": {
        "id": "MGAboYMIHApc",
        "colab_type": "code",
        "colab": {}
      },
      "source": [
        "def load_model():\n",
        "  # load json and create model\n",
        "  from keras.models import model_from_json\n",
        "  json_file = open('gdrive/My Drive/Colab Notebooks/model.json', 'r')\n",
        "  loaded_model_json = json_file.read()\n",
        "  json_file.close()\n",
        "  loaded_model = model_from_json(loaded_model_json)\n",
        "  # load weights into new model\n",
        "  loaded_model.load_weights(\"gdrive/My Drive/Colab Notebooks/model.h5\")\n",
        "  print(\"Loaded model from disk\")\n",
        "  return loaded_model"
      ],
      "execution_count": 0,
      "outputs": []
    },
    {
      "cell_type": "code",
      "metadata": {
        "id": "EBW8Pt791FXv",
        "colab_type": "code",
        "colab": {}
      },
      "source": [
        "#save_model(model)"
      ],
      "execution_count": 0,
      "outputs": []
    },
    {
      "cell_type": "code",
      "metadata": {
        "id": "3953h_nzITaK",
        "colab_type": "code",
        "colab": {}
      },
      "source": [
        "#Loaded_model = load_model()\n",
        "# evaluate loaded model on test data\n",
        "#loaded_model.compile(loss='binary_crossentropy', optimizer='rmsprop', metrics=['accuracy'])\n",
        "#Loaded_model.compile(loss='categorical_crossentropy', optimizer='adam', metrics=['accuracy'])\n",
        "#score = Loaded_model.evaluate(xTest, yTest, verbose=0)\n",
        "#print(\"%s: %.2f%%\" % (Loaded_model.metrics_names[1], score[1]*100))"
      ],
      "execution_count": 0,
      "outputs": []
    },
    {
      "cell_type": "code",
      "metadata": {
        "id": "129VO0TPxmlT",
        "colab_type": "code",
        "outputId": "c192e33a-c5aa-43cc-b4f0-f1ef411f8fd6",
        "colab": {
          "base_uri": "https://localhost:8080/",
          "height": 53
        }
      },
      "source": [
        "accuracy = model.evaluate(xTest, yTest, batch_size=batch_size, verbose=1)\n",
        "#print(accuracy)\n",
        "print(\"%s: %.2f%%\" % (model.metrics_names[1], score[1]*100))"
      ],
      "execution_count": 0,
      "outputs": [
        {
          "output_type": "stream",
          "text": [
            "19800/19800 [==============================] - 0s 15us/step\n",
            "acc: 79.12%\n"
          ],
          "name": "stdout"
        }
      ]
    },
    {
      "cell_type": "code",
      "metadata": {
        "id": "1538Lfseh714",
        "colab_type": "code",
        "colab": {}
      },
      "source": [
        "prediction = model.predict(xTest)\n",
        "Y_pred = []\n",
        "Y_test = []\n",
        "print(np.argmax(prediction[0,:]))\n",
        "print(np.argmax(yTest[0]))\n",
        "for i in range(len(prediction[:,0])):\n",
        "  Y_pred.append(np.argmax(prediction[i,:]))\n",
        "  Y_test.append(np.argmax(yTest[i]))\n",
        "print(Y_pred)\n",
        "print(Y_test)\n"
      ],
      "execution_count": 0,
      "outputs": []
    },
    {
      "cell_type": "code",
      "metadata": {
        "id": "Jy3hHRRmPdMo",
        "colab_type": "code",
        "colab": {}
      },
      "source": [
        "def show_confusion_matrix(validations, predictions):\n",
        "  from sklearn.metrics import confusion_matrix\n",
        "  matrix = confusion_matrix(validations, predictions)\n",
        "  plt.figure(figsize=(6,4))\n",
        "  sns.heatmap(matrix, cmap='Blues', linecolor = 'black', linewidth = '1', xticklabels = LABELS, yticklabels = LABELS, annot = True, fmt = 'd')\n",
        "  plt.title(\"Confusion Matrix\")\n",
        "  plt.ylabel('True Label')\n",
        "  plt.xlabel('Predicted Label')\n",
        "  plt.show()\n"
      ],
      "execution_count": 0,
      "outputs": []
    },
    {
      "cell_type": "code",
      "metadata": {
        "id": "Uhr9V46tfL9S",
        "colab_type": "code",
        "outputId": "c12f9f29-dd79-4e38-b418-d0f3f7ec7c18",
        "colab": {
          "base_uri": "https://localhost:8080/",
          "height": 325
        }
      },
      "source": [
        "show_confusion_matrix(Y_pred, Y_test)"
      ],
      "execution_count": 0,
      "outputs": [
        {
          "output_type": "display_data",
          "data": {
            "image/png": "[encoded data removed]",
            "text/plain": [
              "<Figure size 432x288 with 2 Axes>"
            ]
          },
          "metadata": {
            "tags": []
          }
        }
      ]
    }
  ]
}